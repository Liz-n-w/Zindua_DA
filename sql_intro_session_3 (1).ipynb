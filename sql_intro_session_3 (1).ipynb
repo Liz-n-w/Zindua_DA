{
  "nbformat": 4,
  "nbformat_minor": 0,
  "metadata": {
    "colab": {
      "provenance": []
    },
    "kernelspec": {
      "name": "python3",
      "display_name": "Python 3"
    },
    "language_info": {
      "name": "python"
    }
  },
  "cells": [
    {
      "cell_type": "markdown",
      "source": [
        "# Installing our database connector."
      ],
      "metadata": {
        "id": "6JIJY23Jzjn3"
      }
    },
    {
      "cell_type": "markdown",
      "source": [
        "- Magic command to enable us to run sql commands within a jupyter notebook"
      ],
      "metadata": {
        "id": "WzmS_sQEzC5f"
      }
    },
    {
      "cell_type": "code",
      "source": [
        "%load_ext sql"
      ],
      "metadata": {
        "id": "u4a5nx1myhGR"
      },
      "execution_count": null,
      "outputs": []
    },
    {
      "cell_type": "markdown",
      "source": [
        "- Magic command to run one line of sql"
      ],
      "metadata": {
        "id": "XzssOPYtz49B"
      }
    },
    {
      "cell_type": "code",
      "source": [
        "%sql"
      ],
      "metadata": {
        "id": "_ujz2qmMH6fo"
      },
      "execution_count": null,
      "outputs": []
    },
    {
      "cell_type": "markdown",
      "source": [
        "- Magic command to run multiple lines of sql"
      ],
      "metadata": {
        "id": "AG08UM6A0A7M"
      }
    },
    {
      "cell_type": "code",
      "source": [
        "%%sql"
      ],
      "metadata": {
        "id": "R4NVu8UByhDe"
      },
      "execution_count": null,
      "outputs": []
    },
    {
      "cell_type": "markdown",
      "source": [
        "- Connecting to a sqlite database available locally"
      ],
      "metadata": {
        "id": "vyuf37Bc3nBg"
      }
    },
    {
      "cell_type": "code",
      "source": [
        "%sql sqlite:///chinook.db"
      ],
      "metadata": {
        "id": "yLG-H0-Iz010"
      },
      "execution_count": null,
      "outputs": []
    },
    {
      "cell_type": "markdown",
      "source": [
        "# **Explore the database**"
      ],
      "metadata": {
        "id": "nfuUblBq5UP1"
      }
    },
    {
      "cell_type": "markdown",
      "source": [
        "- Selecting all table names from our database."
      ],
      "metadata": {
        "id": "YYVXSCefFrgi"
      }
    },
    {
      "cell_type": "code",
      "source": [
        "%sql SELECT name FROM sqlite_master WHERE type='table';"
      ],
      "metadata": {
        "colab": {
          "base_uri": "https://localhost:8080/",
          "height": 353
        },
        "id": "K8T8M3g2yg99",
        "outputId": "84574eba-d194-466f-a3af-c8f1a24d7d13"
      },
      "execution_count": null,
      "outputs": [
        {
          "output_type": "stream",
          "name": "stdout",
          "text": [
            " * sqlite:///chinook.db\n",
            "Done.\n"
          ]
        },
        {
          "output_type": "execute_result",
          "data": {
            "text/plain": [
              "[('albums',),\n",
              " ('sqlite_sequence',),\n",
              " ('artists',),\n",
              " ('customers',),\n",
              " ('employees',),\n",
              " ('genres',),\n",
              " ('invoices',),\n",
              " ('invoice_items',),\n",
              " ('media_types',),\n",
              " ('playlists',),\n",
              " ('playlist_track',),\n",
              " ('tracks',),\n",
              " ('sqlite_stat1',)]"
            ],
            "text/html": [
              "<table>\n",
              "    <thead>\n",
              "        <tr>\n",
              "            <th>name</th>\n",
              "        </tr>\n",
              "    </thead>\n",
              "    <tbody>\n",
              "        <tr>\n",
              "            <td>albums</td>\n",
              "        </tr>\n",
              "        <tr>\n",
              "            <td>sqlite_sequence</td>\n",
              "        </tr>\n",
              "        <tr>\n",
              "            <td>artists</td>\n",
              "        </tr>\n",
              "        <tr>\n",
              "            <td>customers</td>\n",
              "        </tr>\n",
              "        <tr>\n",
              "            <td>employees</td>\n",
              "        </tr>\n",
              "        <tr>\n",
              "            <td>genres</td>\n",
              "        </tr>\n",
              "        <tr>\n",
              "            <td>invoices</td>\n",
              "        </tr>\n",
              "        <tr>\n",
              "            <td>invoice_items</td>\n",
              "        </tr>\n",
              "        <tr>\n",
              "            <td>media_types</td>\n",
              "        </tr>\n",
              "        <tr>\n",
              "            <td>playlists</td>\n",
              "        </tr>\n",
              "        <tr>\n",
              "            <td>playlist_track</td>\n",
              "        </tr>\n",
              "        <tr>\n",
              "            <td>tracks</td>\n",
              "        </tr>\n",
              "        <tr>\n",
              "            <td>sqlite_stat1</td>\n",
              "        </tr>\n",
              "    </tbody>\n",
              "</table>"
            ]
          },
          "metadata": {},
          "execution_count": 3
        }
      ]
    },
    {
      "cell_type": "markdown",
      "source": [
        "- Looking into a particular table within our database"
      ],
      "metadata": {
        "id": "vgdetSTo5tHY"
      }
    },
    {
      "cell_type": "code",
      "source": [
        "%sql PRAGMA table_info(employees);"
      ],
      "metadata": {
        "colab": {
          "base_uri": "https://localhost:8080/",
          "height": 395
        },
        "id": "whODcLM0jjny",
        "outputId": "117417c4-9281-4c62-9386-9bd852d51670"
      },
      "execution_count": null,
      "outputs": [
        {
          "output_type": "stream",
          "name": "stdout",
          "text": [
            " * sqlite:///chinook.db\n",
            "Done.\n"
          ]
        },
        {
          "output_type": "execute_result",
          "data": {
            "text/plain": [
              "[(0, 'EmployeeId', 'INTEGER', 1, None, 1),\n",
              " (1, 'LastName', 'NVARCHAR(20)', 1, None, 0),\n",
              " (2, 'FirstName', 'NVARCHAR(20)', 1, None, 0),\n",
              " (3, 'Title', 'NVARCHAR(30)', 0, None, 0),\n",
              " (4, 'ReportsTo', 'INTEGER', 0, None, 0),\n",
              " (5, 'BirthDate', 'DATETIME', 0, None, 0),\n",
              " (6, 'HireDate', 'DATETIME', 0, None, 0),\n",
              " (7, 'Address', 'NVARCHAR(70)', 0, None, 0),\n",
              " (8, 'City', 'NVARCHAR(40)', 0, None, 0),\n",
              " (9, 'State', 'NVARCHAR(40)', 0, None, 0),\n",
              " (10, 'Country', 'NVARCHAR(40)', 0, None, 0),\n",
              " (11, 'PostalCode', 'NVARCHAR(10)', 0, None, 0),\n",
              " (12, 'Phone', 'NVARCHAR(24)', 0, None, 0),\n",
              " (13, 'Fax', 'NVARCHAR(24)', 0, None, 0),\n",
              " (14, 'Email', 'NVARCHAR(60)', 0, None, 0)]"
            ],
            "text/html": [
              "<table>\n",
              "    <thead>\n",
              "        <tr>\n",
              "            <th>cid</th>\n",
              "            <th>name</th>\n",
              "            <th>type</th>\n",
              "            <th>notnull</th>\n",
              "            <th>dflt_value</th>\n",
              "            <th>pk</th>\n",
              "        </tr>\n",
              "    </thead>\n",
              "    <tbody>\n",
              "        <tr>\n",
              "            <td>0</td>\n",
              "            <td>EmployeeId</td>\n",
              "            <td>INTEGER</td>\n",
              "            <td>1</td>\n",
              "            <td>None</td>\n",
              "            <td>1</td>\n",
              "        </tr>\n",
              "        <tr>\n",
              "            <td>1</td>\n",
              "            <td>LastName</td>\n",
              "            <td>NVARCHAR(20)</td>\n",
              "            <td>1</td>\n",
              "            <td>None</td>\n",
              "            <td>0</td>\n",
              "        </tr>\n",
              "        <tr>\n",
              "            <td>2</td>\n",
              "            <td>FirstName</td>\n",
              "            <td>NVARCHAR(20)</td>\n",
              "            <td>1</td>\n",
              "            <td>None</td>\n",
              "            <td>0</td>\n",
              "        </tr>\n",
              "        <tr>\n",
              "            <td>3</td>\n",
              "            <td>Title</td>\n",
              "            <td>NVARCHAR(30)</td>\n",
              "            <td>0</td>\n",
              "            <td>None</td>\n",
              "            <td>0</td>\n",
              "        </tr>\n",
              "        <tr>\n",
              "            <td>4</td>\n",
              "            <td>ReportsTo</td>\n",
              "            <td>INTEGER</td>\n",
              "            <td>0</td>\n",
              "            <td>None</td>\n",
              "            <td>0</td>\n",
              "        </tr>\n",
              "        <tr>\n",
              "            <td>5</td>\n",
              "            <td>BirthDate</td>\n",
              "            <td>DATETIME</td>\n",
              "            <td>0</td>\n",
              "            <td>None</td>\n",
              "            <td>0</td>\n",
              "        </tr>\n",
              "        <tr>\n",
              "            <td>6</td>\n",
              "            <td>HireDate</td>\n",
              "            <td>DATETIME</td>\n",
              "            <td>0</td>\n",
              "            <td>None</td>\n",
              "            <td>0</td>\n",
              "        </tr>\n",
              "        <tr>\n",
              "            <td>7</td>\n",
              "            <td>Address</td>\n",
              "            <td>NVARCHAR(70)</td>\n",
              "            <td>0</td>\n",
              "            <td>None</td>\n",
              "            <td>0</td>\n",
              "        </tr>\n",
              "        <tr>\n",
              "            <td>8</td>\n",
              "            <td>City</td>\n",
              "            <td>NVARCHAR(40)</td>\n",
              "            <td>0</td>\n",
              "            <td>None</td>\n",
              "            <td>0</td>\n",
              "        </tr>\n",
              "        <tr>\n",
              "            <td>9</td>\n",
              "            <td>State</td>\n",
              "            <td>NVARCHAR(40)</td>\n",
              "            <td>0</td>\n",
              "            <td>None</td>\n",
              "            <td>0</td>\n",
              "        </tr>\n",
              "        <tr>\n",
              "            <td>10</td>\n",
              "            <td>Country</td>\n",
              "            <td>NVARCHAR(40)</td>\n",
              "            <td>0</td>\n",
              "            <td>None</td>\n",
              "            <td>0</td>\n",
              "        </tr>\n",
              "        <tr>\n",
              "            <td>11</td>\n",
              "            <td>PostalCode</td>\n",
              "            <td>NVARCHAR(10)</td>\n",
              "            <td>0</td>\n",
              "            <td>None</td>\n",
              "            <td>0</td>\n",
              "        </tr>\n",
              "        <tr>\n",
              "            <td>12</td>\n",
              "            <td>Phone</td>\n",
              "            <td>NVARCHAR(24)</td>\n",
              "            <td>0</td>\n",
              "            <td>None</td>\n",
              "            <td>0</td>\n",
              "        </tr>\n",
              "        <tr>\n",
              "            <td>13</td>\n",
              "            <td>Fax</td>\n",
              "            <td>NVARCHAR(24)</td>\n",
              "            <td>0</td>\n",
              "            <td>None</td>\n",
              "            <td>0</td>\n",
              "        </tr>\n",
              "        <tr>\n",
              "            <td>14</td>\n",
              "            <td>Email</td>\n",
              "            <td>NVARCHAR(60)</td>\n",
              "            <td>0</td>\n",
              "            <td>None</td>\n",
              "            <td>0</td>\n",
              "        </tr>\n",
              "    </tbody>\n",
              "</table>"
            ]
          },
          "metadata": {},
          "execution_count": 4
        }
      ]
    },
    {
      "cell_type": "code",
      "source": [
        "%sql PRAGMA table_info(albums);"
      ],
      "metadata": {
        "colab": {
          "base_uri": "https://localhost:8080/",
          "height": 139
        },
        "id": "UQUykdHh5wG-",
        "outputId": "524433b2-fcae-4afb-908c-7e20deb81f12"
      },
      "execution_count": null,
      "outputs": [
        {
          "output_type": "stream",
          "name": "stdout",
          "text": [
            " * sqlite:///chinook.db\n",
            "Done.\n"
          ]
        },
        {
          "output_type": "execute_result",
          "data": {
            "text/plain": [
              "[(0, 'AlbumId', 'INTEGER', 1, None, 1),\n",
              " (1, 'Title', 'NVARCHAR(160)', 1, None, 0),\n",
              " (2, 'ArtistId', 'INTEGER', 1, None, 0)]"
            ],
            "text/html": [
              "<table>\n",
              "    <thead>\n",
              "        <tr>\n",
              "            <th>cid</th>\n",
              "            <th>name</th>\n",
              "            <th>type</th>\n",
              "            <th>notnull</th>\n",
              "            <th>dflt_value</th>\n",
              "            <th>pk</th>\n",
              "        </tr>\n",
              "    </thead>\n",
              "    <tbody>\n",
              "        <tr>\n",
              "            <td>0</td>\n",
              "            <td>AlbumId</td>\n",
              "            <td>INTEGER</td>\n",
              "            <td>1</td>\n",
              "            <td>None</td>\n",
              "            <td>1</td>\n",
              "        </tr>\n",
              "        <tr>\n",
              "            <td>1</td>\n",
              "            <td>Title</td>\n",
              "            <td>NVARCHAR(160)</td>\n",
              "            <td>1</td>\n",
              "            <td>None</td>\n",
              "            <td>0</td>\n",
              "        </tr>\n",
              "        <tr>\n",
              "            <td>2</td>\n",
              "            <td>ArtistId</td>\n",
              "            <td>INTEGER</td>\n",
              "            <td>1</td>\n",
              "            <td>None</td>\n",
              "            <td>0</td>\n",
              "        </tr>\n",
              "    </tbody>\n",
              "</table>"
            ]
          },
          "metadata": {},
          "execution_count": 4
        }
      ]
    },
    {
      "cell_type": "code",
      "source": [
        "%sql SELECT COUNT(*) FROM employees;"
      ],
      "metadata": {
        "colab": {
          "base_uri": "https://localhost:8080/",
          "height": 96
        },
        "id": "Zc77ZFmjno_-",
        "outputId": "cfc6787d-6be2-4a63-8524-80356134ccb2"
      },
      "execution_count": null,
      "outputs": [
        {
          "output_type": "stream",
          "name": "stdout",
          "text": [
            " * sqlite:///chinook.db\n",
            "Done.\n"
          ]
        },
        {
          "output_type": "execute_result",
          "data": {
            "text/plain": [
              "[(8,)]"
            ],
            "text/html": [
              "<table>\n",
              "    <thead>\n",
              "        <tr>\n",
              "            <th>COUNT(*)</th>\n",
              "        </tr>\n",
              "    </thead>\n",
              "    <tbody>\n",
              "        <tr>\n",
              "            <td>8</td>\n",
              "        </tr>\n",
              "    </tbody>\n",
              "</table>"
            ]
          },
          "metadata": {},
          "execution_count": 21
        }
      ]
    },
    {
      "cell_type": "code",
      "source": [
        "%sql SELECT LastName FROM employees;"
      ],
      "metadata": {
        "colab": {
          "base_uri": "https://localhost:8080/",
          "height": 246
        },
        "id": "-QhuvwaWmqKI",
        "outputId": "acbd3e6b-5280-4a74-9dfb-8b0e3e13f6b6"
      },
      "execution_count": null,
      "outputs": [
        {
          "output_type": "stream",
          "name": "stdout",
          "text": [
            " * sqlite:///chinook.db\n",
            "Done.\n"
          ]
        },
        {
          "output_type": "execute_result",
          "data": {
            "text/plain": [
              "[('Adams',),\n",
              " ('Edwards',),\n",
              " ('Peacock',),\n",
              " ('Park',),\n",
              " ('Johnson',),\n",
              " ('Mitchell',),\n",
              " ('King',),\n",
              " ('Callahan',)]"
            ],
            "text/html": [
              "<table>\n",
              "    <thead>\n",
              "        <tr>\n",
              "            <th>LastName</th>\n",
              "        </tr>\n",
              "    </thead>\n",
              "    <tbody>\n",
              "        <tr>\n",
              "            <td>Adams</td>\n",
              "        </tr>\n",
              "        <tr>\n",
              "            <td>Edwards</td>\n",
              "        </tr>\n",
              "        <tr>\n",
              "            <td>Peacock</td>\n",
              "        </tr>\n",
              "        <tr>\n",
              "            <td>Park</td>\n",
              "        </tr>\n",
              "        <tr>\n",
              "            <td>Johnson</td>\n",
              "        </tr>\n",
              "        <tr>\n",
              "            <td>Mitchell</td>\n",
              "        </tr>\n",
              "        <tr>\n",
              "            <td>King</td>\n",
              "        </tr>\n",
              "        <tr>\n",
              "            <td>Callahan</td>\n",
              "        </tr>\n",
              "    </tbody>\n",
              "</table>"
            ]
          },
          "metadata": {},
          "execution_count": 20
        }
      ]
    },
    {
      "cell_type": "code",
      "source": [
        "%sql SELECT * FROM employees LIMIT 2;"
      ],
      "metadata": {
        "colab": {
          "base_uri": "https://localhost:8080/",
          "height": 187
        },
        "id": "KVrU7vLmlSOH",
        "outputId": "1625ed9d-0567-421c-fe18-5b786a9310c8"
      },
      "execution_count": null,
      "outputs": [
        {
          "output_type": "stream",
          "name": "stdout",
          "text": [
            " * sqlite:///chinook.db\n",
            "Done.\n"
          ]
        },
        {
          "output_type": "execute_result",
          "data": {
            "text/plain": [
              "[(1, 'Adams', 'Andrew', 'General Manager', None, '1962-02-18 00:00:00', '2002-08-14 00:00:00', '11120 Jasper Ave NW', 'Edmonton', 'AB', 'Canada', 'T5K 2N1', '+1 (780) 428-9482', '+1 (780) 428-3457', 'andrew@chinookcorp.com'),\n",
              " (2, 'Edwards', 'Nancy', 'Sales Manager', 1, '1958-12-08 00:00:00', '2002-05-01 00:00:00', '825 8 Ave SW', 'Calgary', 'AB', 'Canada', 'T2P 2T3', '+1 (403) 262-3443', '+1 (403) 262-3322', 'nancy@chinookcorp.com')]"
            ],
            "text/html": [
              "<table>\n",
              "    <thead>\n",
              "        <tr>\n",
              "            <th>EmployeeId</th>\n",
              "            <th>LastName</th>\n",
              "            <th>FirstName</th>\n",
              "            <th>Title</th>\n",
              "            <th>ReportsTo</th>\n",
              "            <th>BirthDate</th>\n",
              "            <th>HireDate</th>\n",
              "            <th>Address</th>\n",
              "            <th>City</th>\n",
              "            <th>State</th>\n",
              "            <th>Country</th>\n",
              "            <th>PostalCode</th>\n",
              "            <th>Phone</th>\n",
              "            <th>Fax</th>\n",
              "            <th>Email</th>\n",
              "        </tr>\n",
              "    </thead>\n",
              "    <tbody>\n",
              "        <tr>\n",
              "            <td>1</td>\n",
              "            <td>Adams</td>\n",
              "            <td>Andrew</td>\n",
              "            <td>General Manager</td>\n",
              "            <td>None</td>\n",
              "            <td>1962-02-18 00:00:00</td>\n",
              "            <td>2002-08-14 00:00:00</td>\n",
              "            <td>11120 Jasper Ave NW</td>\n",
              "            <td>Edmonton</td>\n",
              "            <td>AB</td>\n",
              "            <td>Canada</td>\n",
              "            <td>T5K 2N1</td>\n",
              "            <td>+1 (780) 428-9482</td>\n",
              "            <td>+1 (780) 428-3457</td>\n",
              "            <td>andrew@chinookcorp.com</td>\n",
              "        </tr>\n",
              "        <tr>\n",
              "            <td>2</td>\n",
              "            <td>Edwards</td>\n",
              "            <td>Nancy</td>\n",
              "            <td>Sales Manager</td>\n",
              "            <td>1</td>\n",
              "            <td>1958-12-08 00:00:00</td>\n",
              "            <td>2002-05-01 00:00:00</td>\n",
              "            <td>825 8 Ave SW</td>\n",
              "            <td>Calgary</td>\n",
              "            <td>AB</td>\n",
              "            <td>Canada</td>\n",
              "            <td>T2P 2T3</td>\n",
              "            <td>+1 (403) 262-3443</td>\n",
              "            <td>+1 (403) 262-3322</td>\n",
              "            <td>nancy@chinookcorp.com</td>\n",
              "        </tr>\n",
              "    </tbody>\n",
              "</table>"
            ]
          },
          "metadata": {},
          "execution_count": 17
        }
      ]
    },
    {
      "cell_type": "code",
      "source": [
        "%sql SELECT Title FROM employees LIMIT 5;"
      ],
      "metadata": {
        "colab": {
          "base_uri": "https://localhost:8080/",
          "height": 182
        },
        "id": "X81h9lIgllyT",
        "outputId": "a89d567f-84cf-46f0-9f47-fa4552bdc466"
      },
      "execution_count": null,
      "outputs": [
        {
          "output_type": "stream",
          "name": "stdout",
          "text": [
            " * sqlite:///chinook.db\n",
            "Done.\n"
          ]
        },
        {
          "output_type": "execute_result",
          "data": {
            "text/plain": [
              "[('General Manager',),\n",
              " ('Sales Manager',),\n",
              " ('Sales Support Agent',),\n",
              " ('Sales Support Agent',),\n",
              " ('Sales Support Agent',)]"
            ],
            "text/html": [
              "<table>\n",
              "    <thead>\n",
              "        <tr>\n",
              "            <th>Title</th>\n",
              "        </tr>\n",
              "    </thead>\n",
              "    <tbody>\n",
              "        <tr>\n",
              "            <td>General Manager</td>\n",
              "        </tr>\n",
              "        <tr>\n",
              "            <td>Sales Manager</td>\n",
              "        </tr>\n",
              "        <tr>\n",
              "            <td>Sales Support Agent</td>\n",
              "        </tr>\n",
              "        <tr>\n",
              "            <td>Sales Support Agent</td>\n",
              "        </tr>\n",
              "        <tr>\n",
              "            <td>Sales Support Agent</td>\n",
              "        </tr>\n",
              "    </tbody>\n",
              "</table>"
            ]
          },
          "metadata": {},
          "execution_count": 16
        }
      ]
    },
    {
      "cell_type": "code",
      "source": [
        "%sql SELECT * FROM albums LIMIT 5;"
      ],
      "metadata": {
        "id": "QOgztRN4yg6-",
        "colab": {
          "base_uri": "https://localhost:8080/",
          "height": 182
        },
        "outputId": "de161651-b66f-4c55-d097-8080db772dfe"
      },
      "execution_count": null,
      "outputs": [
        {
          "output_type": "stream",
          "name": "stdout",
          "text": [
            " * sqlite:///chinook.db\n",
            "Done.\n"
          ]
        },
        {
          "output_type": "execute_result",
          "data": {
            "text/plain": [
              "[(1, 'For Those About To Rock We Salute You', 1),\n",
              " (2, 'Balls to the Wall', 2),\n",
              " (3, 'Restless and Wild', 2),\n",
              " (4, 'Let There Be Rock', 1),\n",
              " (5, 'Big Ones', 3)]"
            ],
            "text/html": [
              "<table>\n",
              "    <thead>\n",
              "        <tr>\n",
              "            <th>AlbumId</th>\n",
              "            <th>Title</th>\n",
              "            <th>ArtistId</th>\n",
              "        </tr>\n",
              "    </thead>\n",
              "    <tbody>\n",
              "        <tr>\n",
              "            <td>1</td>\n",
              "            <td>For Those About To Rock We Salute You</td>\n",
              "            <td>1</td>\n",
              "        </tr>\n",
              "        <tr>\n",
              "            <td>2</td>\n",
              "            <td>Balls to the Wall</td>\n",
              "            <td>2</td>\n",
              "        </tr>\n",
              "        <tr>\n",
              "            <td>3</td>\n",
              "            <td>Restless and Wild</td>\n",
              "            <td>2</td>\n",
              "        </tr>\n",
              "        <tr>\n",
              "            <td>4</td>\n",
              "            <td>Let There Be Rock</td>\n",
              "            <td>1</td>\n",
              "        </tr>\n",
              "        <tr>\n",
              "            <td>5</td>\n",
              "            <td>Big Ones</td>\n",
              "            <td>3</td>\n",
              "        </tr>\n",
              "    </tbody>\n",
              "</table>"
            ]
          },
          "metadata": {},
          "execution_count": 5
        }
      ]
    },
    {
      "cell_type": "code",
      "source": [
        "%sql SELECT Title FROM albums WHERE ArtistId == 1;"
      ],
      "metadata": {
        "id": "Tb0EvIDuyg4J",
        "colab": {
          "base_uri": "https://localhost:8080/",
          "height": 118
        },
        "outputId": "4599c533-38b4-4c26-c7a4-25a5a1cf16f2"
      },
      "execution_count": null,
      "outputs": [
        {
          "output_type": "stream",
          "name": "stdout",
          "text": [
            " * sqlite:///chinook.db\n",
            "Done.\n"
          ]
        },
        {
          "output_type": "execute_result",
          "data": {
            "text/plain": [
              "[('For Those About To Rock We Salute You',), ('Let There Be Rock',)]"
            ],
            "text/html": [
              "<table>\n",
              "    <thead>\n",
              "        <tr>\n",
              "            <th>Title</th>\n",
              "        </tr>\n",
              "    </thead>\n",
              "    <tbody>\n",
              "        <tr>\n",
              "            <td>For Those About To Rock We Salute You</td>\n",
              "        </tr>\n",
              "        <tr>\n",
              "            <td>Let There Be Rock</td>\n",
              "        </tr>\n",
              "    </tbody>\n",
              "</table>"
            ]
          },
          "metadata": {},
          "execution_count": 6
        }
      ]
    },
    {
      "cell_type": "markdown",
      "source": [
        "# **Creating and Deleting Tables**"
      ],
      "metadata": {
        "id": "gkbrT7ESCoky"
      }
    },
    {
      "cell_type": "markdown",
      "source": [
        "- We'll create a table named 'Worker' in our database.\n",
        "- We'll include a constraint in some of the fields for data intergrity.\n",
        "- We'll specify the data type to be stored in each field."
      ],
      "metadata": {
        "id": "L5ZuK7-pIRmY"
      }
    },
    {
      "cell_type": "code",
      "source": [
        "%%sql CREATE TABLE Worker(\n",
        "    last_name VARCHAR(25),\n",
        "    worker_id INT NOT NULL PRIMARY KEY,\n",
        "    first_name VARCHAR(25),\n",
        "    salary INT(15),\n",
        "    department VARCHAR(25)\n",
        ");"
      ],
      "metadata": {
        "id": "Xk0necEdyg1O",
        "colab": {
          "base_uri": "https://localhost:8080/"
        },
        "outputId": "61413abc-7549-4d6c-e88e-0629fe9e4398"
      },
      "execution_count": null,
      "outputs": [
        {
          "output_type": "stream",
          "name": "stdout",
          "text": [
            " * sqlite:///chinook.db\n",
            "Done.\n"
          ]
        },
        {
          "output_type": "execute_result",
          "data": {
            "text/plain": [
              "[]"
            ]
          },
          "metadata": {},
          "execution_count": 5
        }
      ]
    },
    {
      "cell_type": "markdown",
      "source": [
        "- Confirm creation of the table"
      ],
      "metadata": {
        "id": "KrDcO1FbJbpD"
      }
    },
    {
      "cell_type": "code",
      "source": [
        "%sql SELECT name FROM sqlite_master WHERE type=='table';"
      ],
      "metadata": {
        "colab": {
          "base_uri": "https://localhost:8080/",
          "height": 374
        },
        "id": "IUIcIcxLpibA",
        "outputId": "87361619-ab55-4db6-f203-56da89bd36f9"
      },
      "execution_count": null,
      "outputs": [
        {
          "output_type": "stream",
          "name": "stdout",
          "text": [
            " * sqlite:///chinook.db\n",
            "Done.\n"
          ]
        },
        {
          "output_type": "execute_result",
          "data": {
            "text/plain": [
              "[('albums',),\n",
              " ('sqlite_sequence',),\n",
              " ('artists',),\n",
              " ('customers',),\n",
              " ('employees',),\n",
              " ('genres',),\n",
              " ('invoices',),\n",
              " ('invoice_items',),\n",
              " ('media_types',),\n",
              " ('playlists',),\n",
              " ('playlist_track',),\n",
              " ('tracks',),\n",
              " ('sqlite_stat1',),\n",
              " ('Worker',)]"
            ],
            "text/html": [
              "<table>\n",
              "    <thead>\n",
              "        <tr>\n",
              "            <th>name</th>\n",
              "        </tr>\n",
              "    </thead>\n",
              "    <tbody>\n",
              "        <tr>\n",
              "            <td>albums</td>\n",
              "        </tr>\n",
              "        <tr>\n",
              "            <td>sqlite_sequence</td>\n",
              "        </tr>\n",
              "        <tr>\n",
              "            <td>artists</td>\n",
              "        </tr>\n",
              "        <tr>\n",
              "            <td>customers</td>\n",
              "        </tr>\n",
              "        <tr>\n",
              "            <td>employees</td>\n",
              "        </tr>\n",
              "        <tr>\n",
              "            <td>genres</td>\n",
              "        </tr>\n",
              "        <tr>\n",
              "            <td>invoices</td>\n",
              "        </tr>\n",
              "        <tr>\n",
              "            <td>invoice_items</td>\n",
              "        </tr>\n",
              "        <tr>\n",
              "            <td>media_types</td>\n",
              "        </tr>\n",
              "        <tr>\n",
              "            <td>playlists</td>\n",
              "        </tr>\n",
              "        <tr>\n",
              "            <td>playlist_track</td>\n",
              "        </tr>\n",
              "        <tr>\n",
              "            <td>tracks</td>\n",
              "        </tr>\n",
              "        <tr>\n",
              "            <td>sqlite_stat1</td>\n",
              "        </tr>\n",
              "        <tr>\n",
              "            <td>Worker</td>\n",
              "        </tr>\n",
              "    </tbody>\n",
              "</table>"
            ]
          },
          "metadata": {},
          "execution_count": 6
        }
      ]
    },
    {
      "cell_type": "code",
      "source": [
        "%sql PRAGMA table_info(\"Worker\");"
      ],
      "metadata": {
        "colab": {
          "base_uri": "https://localhost:8080/",
          "height": 182
        },
        "id": "hLHnWPlBp_r9",
        "outputId": "27265ae7-40e7-47bb-d68c-57c5d491999e"
      },
      "execution_count": null,
      "outputs": [
        {
          "output_type": "stream",
          "name": "stdout",
          "text": [
            " * sqlite:///chinook.db\n",
            "Done.\n"
          ]
        },
        {
          "output_type": "execute_result",
          "data": {
            "text/plain": [
              "[(0, 'last_name', 'VARCHAR(25)', 0, None, 0),\n",
              " (1, 'worker_id', 'INT', 1, None, 1),\n",
              " (2, 'first_name', 'VARCHAR(25)', 0, None, 0),\n",
              " (3, 'salary', 'INT(15)', 0, None, 0),\n",
              " (4, 'department', 'VARCHAR(25)', 0, None, 0)]"
            ],
            "text/html": [
              "<table>\n",
              "    <thead>\n",
              "        <tr>\n",
              "            <th>cid</th>\n",
              "            <th>name</th>\n",
              "            <th>type</th>\n",
              "            <th>notnull</th>\n",
              "            <th>dflt_value</th>\n",
              "            <th>pk</th>\n",
              "        </tr>\n",
              "    </thead>\n",
              "    <tbody>\n",
              "        <tr>\n",
              "            <td>0</td>\n",
              "            <td>last_name</td>\n",
              "            <td>VARCHAR(25)</td>\n",
              "            <td>0</td>\n",
              "            <td>None</td>\n",
              "            <td>0</td>\n",
              "        </tr>\n",
              "        <tr>\n",
              "            <td>1</td>\n",
              "            <td>worker_id</td>\n",
              "            <td>INT</td>\n",
              "            <td>1</td>\n",
              "            <td>None</td>\n",
              "            <td>1</td>\n",
              "        </tr>\n",
              "        <tr>\n",
              "            <td>2</td>\n",
              "            <td>first_name</td>\n",
              "            <td>VARCHAR(25)</td>\n",
              "            <td>0</td>\n",
              "            <td>None</td>\n",
              "            <td>0</td>\n",
              "        </tr>\n",
              "        <tr>\n",
              "            <td>3</td>\n",
              "            <td>salary</td>\n",
              "            <td>INT(15)</td>\n",
              "            <td>0</td>\n",
              "            <td>None</td>\n",
              "            <td>0</td>\n",
              "        </tr>\n",
              "        <tr>\n",
              "            <td>4</td>\n",
              "            <td>department</td>\n",
              "            <td>VARCHAR(25)</td>\n",
              "            <td>0</td>\n",
              "            <td>None</td>\n",
              "            <td>0</td>\n",
              "        </tr>\n",
              "    </tbody>\n",
              "</table>"
            ]
          },
          "metadata": {},
          "execution_count": 24
        }
      ]
    },
    {
      "cell_type": "code",
      "source": [
        "%sql PRAGMA table_info(\"Worker\");"
      ],
      "metadata": {
        "id": "YfTrL_r_ygv2",
        "colab": {
          "base_uri": "https://localhost:8080/",
          "height": 182
        },
        "outputId": "830910ce-7326-476e-a2b1-03ba88117a16"
      },
      "execution_count": null,
      "outputs": [
        {
          "output_type": "stream",
          "name": "stdout",
          "text": [
            " * sqlite:///chinook.db\n",
            "Done.\n"
          ]
        },
        {
          "output_type": "execute_result",
          "data": {
            "text/plain": [
              "[(0, 'last_name', 'VARCHAR(25)', 0, None, 0),\n",
              " (1, 'worker_id', 'INT', 1, None, 1),\n",
              " (2, 'first_name', 'VARCHAR(25)', 0, None, 0),\n",
              " (3, 'salary', 'INT(15)', 0, None, 0),\n",
              " (4, 'department', 'VARCHAR(25)', 0, None, 0)]"
            ],
            "text/html": [
              "<table>\n",
              "    <thead>\n",
              "        <tr>\n",
              "            <th>cid</th>\n",
              "            <th>name</th>\n",
              "            <th>type</th>\n",
              "            <th>notnull</th>\n",
              "            <th>dflt_value</th>\n",
              "            <th>pk</th>\n",
              "        </tr>\n",
              "    </thead>\n",
              "    <tbody>\n",
              "        <tr>\n",
              "            <td>0</td>\n",
              "            <td>last_name</td>\n",
              "            <td>VARCHAR(25)</td>\n",
              "            <td>0</td>\n",
              "            <td>None</td>\n",
              "            <td>0</td>\n",
              "        </tr>\n",
              "        <tr>\n",
              "            <td>1</td>\n",
              "            <td>worker_id</td>\n",
              "            <td>INT</td>\n",
              "            <td>1</td>\n",
              "            <td>None</td>\n",
              "            <td>1</td>\n",
              "        </tr>\n",
              "        <tr>\n",
              "            <td>2</td>\n",
              "            <td>first_name</td>\n",
              "            <td>VARCHAR(25)</td>\n",
              "            <td>0</td>\n",
              "            <td>None</td>\n",
              "            <td>0</td>\n",
              "        </tr>\n",
              "        <tr>\n",
              "            <td>3</td>\n",
              "            <td>salary</td>\n",
              "            <td>INT(15)</td>\n",
              "            <td>0</td>\n",
              "            <td>None</td>\n",
              "            <td>0</td>\n",
              "        </tr>\n",
              "        <tr>\n",
              "            <td>4</td>\n",
              "            <td>department</td>\n",
              "            <td>VARCHAR(25)</td>\n",
              "            <td>0</td>\n",
              "            <td>None</td>\n",
              "            <td>0</td>\n",
              "        </tr>\n",
              "    </tbody>\n",
              "</table>"
            ]
          },
          "metadata": {},
          "execution_count": 9
        }
      ]
    },
    {
      "cell_type": "code",
      "source": [
        "%%sql CREATE TABLE Supervisor(\n",
        "    first_name VARCHAR(20),\n",
        "    last_name VARCHAR(25),\n",
        "    worker_id INT NOT NULL PRIMARY KEY,\n",
        "    salary INT(15),\n",
        "    department VARCHAR(25)\n",
        ");"
      ],
      "metadata": {
        "colab": {
          "base_uri": "https://localhost:8080/"
        },
        "id": "u3f0OB_VCxSL",
        "outputId": "eafe3811-7f4b-436d-d408-0d7edfc59a89"
      },
      "execution_count": null,
      "outputs": [
        {
          "output_type": "stream",
          "name": "stdout",
          "text": [
            " * sqlite:///chinook.db\n",
            "Done.\n"
          ]
        },
        {
          "output_type": "execute_result",
          "data": {
            "text/plain": [
              "[]"
            ]
          },
          "metadata": {},
          "execution_count": 10
        }
      ]
    },
    {
      "cell_type": "code",
      "source": [
        "%sql SELECT name FROM sqlite_master WHERE type=='table';"
      ],
      "metadata": {
        "colab": {
          "base_uri": "https://localhost:8080/",
          "height": 395
        },
        "id": "dgkOErnBC3K6",
        "outputId": "e3a1936e-e40c-4121-8b1f-262603cce4b0"
      },
      "execution_count": null,
      "outputs": [
        {
          "output_type": "stream",
          "name": "stdout",
          "text": [
            " * sqlite:///chinook.db\n",
            "Done.\n"
          ]
        },
        {
          "output_type": "execute_result",
          "data": {
            "text/plain": [
              "[('albums',),\n",
              " ('sqlite_sequence',),\n",
              " ('artists',),\n",
              " ('customers',),\n",
              " ('employees',),\n",
              " ('genres',),\n",
              " ('invoices',),\n",
              " ('invoice_items',),\n",
              " ('media_types',),\n",
              " ('playlists',),\n",
              " ('playlist_track',),\n",
              " ('tracks',),\n",
              " ('sqlite_stat1',),\n",
              " ('Worker',),\n",
              " ('Supervisor',)]"
            ],
            "text/html": [
              "<table>\n",
              "    <thead>\n",
              "        <tr>\n",
              "            <th>name</th>\n",
              "        </tr>\n",
              "    </thead>\n",
              "    <tbody>\n",
              "        <tr>\n",
              "            <td>albums</td>\n",
              "        </tr>\n",
              "        <tr>\n",
              "            <td>sqlite_sequence</td>\n",
              "        </tr>\n",
              "        <tr>\n",
              "            <td>artists</td>\n",
              "        </tr>\n",
              "        <tr>\n",
              "            <td>customers</td>\n",
              "        </tr>\n",
              "        <tr>\n",
              "            <td>employees</td>\n",
              "        </tr>\n",
              "        <tr>\n",
              "            <td>genres</td>\n",
              "        </tr>\n",
              "        <tr>\n",
              "            <td>invoices</td>\n",
              "        </tr>\n",
              "        <tr>\n",
              "            <td>invoice_items</td>\n",
              "        </tr>\n",
              "        <tr>\n",
              "            <td>media_types</td>\n",
              "        </tr>\n",
              "        <tr>\n",
              "            <td>playlists</td>\n",
              "        </tr>\n",
              "        <tr>\n",
              "            <td>playlist_track</td>\n",
              "        </tr>\n",
              "        <tr>\n",
              "            <td>tracks</td>\n",
              "        </tr>\n",
              "        <tr>\n",
              "            <td>sqlite_stat1</td>\n",
              "        </tr>\n",
              "        <tr>\n",
              "            <td>Worker</td>\n",
              "        </tr>\n",
              "        <tr>\n",
              "            <td>Supervisor</td>\n",
              "        </tr>\n",
              "    </tbody>\n",
              "</table>"
            ]
          },
          "metadata": {},
          "execution_count": 11
        }
      ]
    },
    {
      "cell_type": "markdown",
      "source": [
        "**Populating a table**"
      ],
      "metadata": {
        "id": "Lsjb3wKRCm5m"
      }
    },
    {
      "cell_type": "code",
      "source": [
        "%%sql INSERT INTO Worker (last_name,worker_id,first_name,salary,department) VALUES\n",
        "('Arora',001,'Monika',1000000,'HR'),\n",
        "('Kevin',002,'Sean',70000,'Admin');"
      ],
      "metadata": {
        "id": "WOx7NTyUtp_B"
      },
      "execution_count": null,
      "outputs": []
    },
    {
      "cell_type": "code",
      "source": [
        "%%sql INSERT INTO Worker (last_name,worker_id,first_name,salary,department) VALUES\n",
        "('Arora',001,'Monika',100000,'HR'),\n",
        "('Kevin',002,'Sean',70000,'Admin'),\n",
        "('Vishal',003,'Singh',50000,'Admin'),\n",
        "('George',004,'Clooney',120000,'Accounts'),\n",
        "('Mary',005,'Newton',90000,'Accounts');"
      ],
      "metadata": {
        "id": "PcDUTXjaygqe",
        "colab": {
          "base_uri": "https://localhost:8080/"
        },
        "outputId": "82417a21-8662-4afe-e214-4c71c4c474d8"
      },
      "execution_count": null,
      "outputs": [
        {
          "output_type": "stream",
          "name": "stdout",
          "text": [
            " * sqlite:///chinook.db\n",
            "5 rows affected.\n"
          ]
        },
        {
          "output_type": "execute_result",
          "data": {
            "text/plain": [
              "[]"
            ]
          },
          "metadata": {},
          "execution_count": 7
        }
      ]
    },
    {
      "cell_type": "code",
      "source": [
        "%%sql SELECT * FROM Worker;"
      ],
      "metadata": {
        "id": "tz3j0-9lygtH",
        "colab": {
          "base_uri": "https://localhost:8080/",
          "height": 182
        },
        "outputId": "405bb5e3-daae-4776-b0e1-8afe4d0012b0"
      },
      "execution_count": null,
      "outputs": [
        {
          "output_type": "stream",
          "name": "stdout",
          "text": [
            " * sqlite:///chinook.db\n",
            "Done.\n"
          ]
        },
        {
          "output_type": "execute_result",
          "data": {
            "text/plain": [
              "[('Arora', 1, 'Monika', 100000, 'HR'),\n",
              " ('Kevin', 2, 'Sean', 70000, 'Admin'),\n",
              " ('Vishal', 3, 'Singh', 50000, 'Admin'),\n",
              " ('George', 4, 'Clooney', 120000, 'Accounts'),\n",
              " ('Mary', 5, 'Newton', 90000, 'Accounts')]"
            ],
            "text/html": [
              "<table>\n",
              "    <thead>\n",
              "        <tr>\n",
              "            <th>last_name</th>\n",
              "            <th>worker_id</th>\n",
              "            <th>first_name</th>\n",
              "            <th>salary</th>\n",
              "            <th>department</th>\n",
              "        </tr>\n",
              "    </thead>\n",
              "    <tbody>\n",
              "        <tr>\n",
              "            <td>Arora</td>\n",
              "            <td>1</td>\n",
              "            <td>Monika</td>\n",
              "            <td>100000</td>\n",
              "            <td>HR</td>\n",
              "        </tr>\n",
              "        <tr>\n",
              "            <td>Kevin</td>\n",
              "            <td>2</td>\n",
              "            <td>Sean</td>\n",
              "            <td>70000</td>\n",
              "            <td>Admin</td>\n",
              "        </tr>\n",
              "        <tr>\n",
              "            <td>Vishal</td>\n",
              "            <td>3</td>\n",
              "            <td>Singh</td>\n",
              "            <td>50000</td>\n",
              "            <td>Admin</td>\n",
              "        </tr>\n",
              "        <tr>\n",
              "            <td>George</td>\n",
              "            <td>4</td>\n",
              "            <td>Clooney</td>\n",
              "            <td>120000</td>\n",
              "            <td>Accounts</td>\n",
              "        </tr>\n",
              "        <tr>\n",
              "            <td>Mary</td>\n",
              "            <td>5</td>\n",
              "            <td>Newton</td>\n",
              "            <td>90000</td>\n",
              "            <td>Accounts</td>\n",
              "        </tr>\n",
              "    </tbody>\n",
              "</table>"
            ]
          },
          "metadata": {},
          "execution_count": 8
        }
      ]
    },
    {
      "cell_type": "code",
      "source": [
        "%%sql INSERT INTO Worker (last_name,worker_id,first_name,salary,department) VALUES\n",
        "('Winnie','Jane',100000,'HR');"
      ],
      "metadata": {
        "colab": {
          "base_uri": "https://localhost:8080/"
        },
        "id": "MYwjObzENXeH",
        "outputId": "797471d4-2761-4bc5-ce4f-09c60861474b"
      },
      "execution_count": null,
      "outputs": [
        {
          "output_type": "stream",
          "name": "stdout",
          "text": [
            " * sqlite:///chinook.db\n",
            "(sqlite3.OperationalError) 4 values for 5 columns\n",
            "[SQL: INSERT INTO Worker (last_name,worker_id,first_name,salary,department) VALUES\n",
            "('Winnie','Jane',100000,'HR');]\n",
            "(Background on this error at: https://sqlalche.me/e/20/e3q8)\n"
          ]
        }
      ]
    },
    {
      "cell_type": "code",
      "source": [
        "%%sql INSERT INTO Worker (last_name,first_name,salary,department) VALUES\n",
        "('Winnie','Jane',100000,'HR');"
      ],
      "metadata": {
        "colab": {
          "base_uri": "https://localhost:8080/"
        },
        "id": "TCKUmIvDNpUE",
        "outputId": "f78e5953-61e8-4ccc-b0c5-c8fec01e0fda"
      },
      "execution_count": null,
      "outputs": [
        {
          "output_type": "stream",
          "name": "stdout",
          "text": [
            " * sqlite:///chinook.db\n",
            "(sqlite3.IntegrityError) NOT NULL constraint failed: Worker.worker_id\n",
            "[SQL: INSERT INTO Worker (last_name,first_name,salary,department) VALUES\n",
            "('Winnie','Jane',100000,'HR');]\n",
            "(Background on this error at: https://sqlalche.me/e/20/gkpj)\n"
          ]
        }
      ]
    },
    {
      "cell_type": "code",
      "source": [
        "%%sql SELECT * FROM Worker;"
      ],
      "metadata": {
        "colab": {
          "base_uri": "https://localhost:8080/",
          "height": 182
        },
        "id": "O0xiPbAUNs2G",
        "outputId": "e5630f13-3c5b-4cfd-d023-daf8a6f32e64"
      },
      "execution_count": null,
      "outputs": [
        {
          "output_type": "stream",
          "name": "stdout",
          "text": [
            " * sqlite:///chinook.db\n",
            "Done.\n"
          ]
        },
        {
          "output_type": "execute_result",
          "data": {
            "text/plain": [
              "[('Arora', 1, 'Monika', 100000, 'HR'),\n",
              " ('Kevin', 2, 'Sean', 70000, 'Admin'),\n",
              " ('Vishal', 3, 'Singh', 50000, 'Admin'),\n",
              " ('George', 4, 'Clooney', 120000, 'Accounts'),\n",
              " ('Mary', 5, 'Newton', 90000, 'Accounts')]"
            ],
            "text/html": [
              "<table>\n",
              "    <thead>\n",
              "        <tr>\n",
              "            <th>last_name</th>\n",
              "            <th>worker_id</th>\n",
              "            <th>first_name</th>\n",
              "            <th>salary</th>\n",
              "            <th>department</th>\n",
              "        </tr>\n",
              "    </thead>\n",
              "    <tbody>\n",
              "        <tr>\n",
              "            <td>Arora</td>\n",
              "            <td>1</td>\n",
              "            <td>Monika</td>\n",
              "            <td>100000</td>\n",
              "            <td>HR</td>\n",
              "        </tr>\n",
              "        <tr>\n",
              "            <td>Kevin</td>\n",
              "            <td>2</td>\n",
              "            <td>Sean</td>\n",
              "            <td>70000</td>\n",
              "            <td>Admin</td>\n",
              "        </tr>\n",
              "        <tr>\n",
              "            <td>Vishal</td>\n",
              "            <td>3</td>\n",
              "            <td>Singh</td>\n",
              "            <td>50000</td>\n",
              "            <td>Admin</td>\n",
              "        </tr>\n",
              "        <tr>\n",
              "            <td>George</td>\n",
              "            <td>4</td>\n",
              "            <td>Clooney</td>\n",
              "            <td>120000</td>\n",
              "            <td>Accounts</td>\n",
              "        </tr>\n",
              "        <tr>\n",
              "            <td>Mary</td>\n",
              "            <td>5</td>\n",
              "            <td>Newton</td>\n",
              "            <td>90000</td>\n",
              "            <td>Accounts</td>\n",
              "        </tr>\n",
              "    </tbody>\n",
              "</table>"
            ]
          },
          "metadata": {},
          "execution_count": 11
        }
      ]
    },
    {
      "cell_type": "markdown",
      "source": [
        "- Dropping tables"
      ],
      "metadata": {
        "id": "JXWZn9JXQaPu"
      }
    },
    {
      "cell_type": "code",
      "source": [
        "%sql DROP TABLE Worker;"
      ],
      "metadata": {
        "colab": {
          "base_uri": "https://localhost:8080/"
        },
        "id": "DOrFx-tYu3su",
        "outputId": "57a2db18-45f8-46f6-cf72-b59c337204ee"
      },
      "execution_count": null,
      "outputs": [
        {
          "output_type": "stream",
          "name": "stdout",
          "text": [
            " * sqlite:///chinook.db\n",
            "Done.\n"
          ]
        },
        {
          "output_type": "execute_result",
          "data": {
            "text/plain": [
              "[]"
            ]
          },
          "metadata": {},
          "execution_count": 12
        }
      ]
    },
    {
      "cell_type": "code",
      "source": [
        "%%sql SELECT * FROM Worker;"
      ],
      "metadata": {
        "colab": {
          "base_uri": "https://localhost:8080/"
        },
        "id": "363yCfgGu_ry",
        "outputId": "5620f480-f9b5-414b-d8d0-214d508e03b2"
      },
      "execution_count": null,
      "outputs": [
        {
          "output_type": "stream",
          "name": "stdout",
          "text": [
            " * sqlite:///chinook.db\n",
            "(sqlite3.OperationalError) no such table: Worker\n",
            "[SQL: SELECT * FROM Worker;]\n",
            "(Background on this error at: https://sqlalche.me/e/20/e3q8)\n"
          ]
        }
      ]
    },
    {
      "cell_type": "code",
      "source": [
        "%sql select name from sqlite_master where type=='table';"
      ],
      "metadata": {
        "colab": {
          "base_uri": "https://localhost:8080/",
          "height": 353
        },
        "id": "LisuvlgiC-4p",
        "outputId": "fefceb6a-5094-4248-e641-add5d8a267f0"
      },
      "execution_count": null,
      "outputs": [
        {
          "output_type": "stream",
          "name": "stdout",
          "text": [
            " * sqlite:///chinook.db\n",
            "Done.\n"
          ]
        },
        {
          "output_type": "execute_result",
          "data": {
            "text/plain": [
              "[('albums',),\n",
              " ('sqlite_sequence',),\n",
              " ('artists',),\n",
              " ('customers',),\n",
              " ('employees',),\n",
              " ('genres',),\n",
              " ('invoices',),\n",
              " ('invoice_items',),\n",
              " ('media_types',),\n",
              " ('playlists',),\n",
              " ('playlist_track',),\n",
              " ('tracks',),\n",
              " ('sqlite_stat1',)]"
            ],
            "text/html": [
              "<table>\n",
              "    <thead>\n",
              "        <tr>\n",
              "            <th>name</th>\n",
              "        </tr>\n",
              "    </thead>\n",
              "    <tbody>\n",
              "        <tr>\n",
              "            <td>albums</td>\n",
              "        </tr>\n",
              "        <tr>\n",
              "            <td>sqlite_sequence</td>\n",
              "        </tr>\n",
              "        <tr>\n",
              "            <td>artists</td>\n",
              "        </tr>\n",
              "        <tr>\n",
              "            <td>customers</td>\n",
              "        </tr>\n",
              "        <tr>\n",
              "            <td>employees</td>\n",
              "        </tr>\n",
              "        <tr>\n",
              "            <td>genres</td>\n",
              "        </tr>\n",
              "        <tr>\n",
              "            <td>invoices</td>\n",
              "        </tr>\n",
              "        <tr>\n",
              "            <td>invoice_items</td>\n",
              "        </tr>\n",
              "        <tr>\n",
              "            <td>media_types</td>\n",
              "        </tr>\n",
              "        <tr>\n",
              "            <td>playlists</td>\n",
              "        </tr>\n",
              "        <tr>\n",
              "            <td>playlist_track</td>\n",
              "        </tr>\n",
              "        <tr>\n",
              "            <td>tracks</td>\n",
              "        </tr>\n",
              "        <tr>\n",
              "            <td>sqlite_stat1</td>\n",
              "        </tr>\n",
              "    </tbody>\n",
              "</table>"
            ]
          },
          "metadata": {},
          "execution_count": 14
        }
      ]
    }
  ]
}